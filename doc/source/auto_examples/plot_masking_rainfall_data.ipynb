{
  "cells": [
    {
      "cell_type": "code",
      "execution_count": null,
      "metadata": {
        "collapsed": false
      },
      "outputs": [],
      "source": [
        "%matplotlib inline"
      ]
    },
    {
      "cell_type": "markdown",
      "metadata": {},
      "source": [
        "\n# Generalized Parafac with missing values\nOn this page, you will find examples showing how to handle missing data with Generalized CP (GCP).\n"
      ]
    },
    {
      "cell_type": "markdown",
      "metadata": {},
      "source": [
        "## Introduction\nMissing values can be handled through GCP decomposition by masking them.\n\n"
      ]
    },
    {
      "cell_type": "code",
      "execution_count": null,
      "metadata": {
        "collapsed": false
      },
      "outputs": [],
      "source": [
        "from tlgcp import generalized_parafac\nfrom tlgcp.data import get_tensor\nfrom tensorly.metrics import RMSE\nimport numpy as np\nimport tensorly as tl\nimport time\nfrom tensorly.decomposition import non_negative_parafac_hals\nimport matplotlib.pyplot as plt\n\n\ndef each_iteration(a, title):\n    fig = plt.figure()\n    fig.set_size_inches(10, fig.get_figheight(), forward=True)\n    plt.plot(a)\n    plt.title(str(title))\n    plt.yscale('log')\n    plt.legend(['gcp'], loc='upper right')\n\n\ndef plot_components(f, title):\n    fig, axs = plt.subplots(5, 3)\n    for j in range(5):\n        fig.set_size_inches(15, fig.get_figheight(), forward=True)\n        fig.suptitle(str(title))\n        axs[j, 0].bar(np.arange(36), height=f[0][:, j], color='r')\n        axs[j, 1].plot(f[1][:, j], 'o-')\n        axs[j, 2].bar(np.arange(12), height=f[2][:, j], color='b')"
      ]
    },
    {
      "cell_type": "markdown",
      "metadata": {},
      "source": [
        "Here, we use india rainfall dataset which has some missing values in it.\nIf data doesn't come with a mask, we need to create it ourselves e.g. by searching\nthe nan values in data.\n\n"
      ]
    },
    {
      "cell_type": "code",
      "execution_count": null,
      "metadata": {
        "collapsed": false
      },
      "outputs": [],
      "source": [
        "tensor = get_tensor(\"rainfall\")\nmask = tl.ones(tl.shape(tensor))\nmask[np.isnan(tensor)] = 0\ntensor[np.isnan(tensor)] = 0\n\n# Parameters\nrank = 5\ninit = 'random'\nloss = 'gaussian'"
      ]
    },
    {
      "cell_type": "markdown",
      "metadata": {},
      "source": [
        "Both GCP and SGCP allow us to use mask. Here, we will use only GCP.\n\n"
      ]
    },
    {
      "cell_type": "code",
      "execution_count": null,
      "metadata": {
        "collapsed": false
      },
      "outputs": [],
      "source": [
        "# GCP\ntic = time.time()\ntensorgcp, errorsgcp = generalized_parafac(tensor, rank=rank, init=init, return_errors=True, loss=loss,\n                                           mask=mask, n_iter_max=100)\nweightsgcp, factorsgcp = tensorgcp\ncp_reconstructiongcp = tl.cp_to_tensor((weightsgcp, factorsgcp))\ntime_gcp = time.time() - tic\n\n# NN-Parafac\ntic = time.time()\ntensorcp, errors = non_negative_parafac_hals(tensor, rank=rank, n_iter_max=100, init=init, return_errors=True)\nweights, factors = tensorcp\ncp_reconstruction = tl.cp_to_tensor((weights, factors))\ntime_cp = time.time() - tic\n\neach_iteration(errorsgcp, \"GCP\")\n\neach_iteration(errors, \"NN-HALS\")\n\n\nprint(\"RMSE for GCP:\", RMSE(tensor, cp_reconstructiongcp))\nprint(\"RMSE for NN-CP:\", RMSE(tensor, cp_reconstruction))\n\nprint(\"GCP time:\", time_gcp)\nprint(\"NN-CP time:\", time_cp)"
      ]
    },
    {
      "cell_type": "markdown",
      "metadata": {},
      "source": [
        "Here, we plot components of the factors for interpretation.\nHere GCP components,\n\n"
      ]
    },
    {
      "cell_type": "code",
      "execution_count": null,
      "metadata": {
        "collapsed": false
      },
      "outputs": [],
      "source": [
        "plot_components(factorsgcp, 'GCP')"
      ]
    },
    {
      "cell_type": "markdown",
      "metadata": {},
      "source": [
        "and NN-CP components;\n\n"
      ]
    },
    {
      "cell_type": "code",
      "execution_count": null,
      "metadata": {
        "collapsed": false
      },
      "outputs": [],
      "source": [
        "plot_components(factors, 'NN-Parafac')"
      ]
    }
  ],
  "metadata": {
    "kernelspec": {
      "display_name": "Python 3",
      "language": "python",
      "name": "python3"
    },
    "language_info": {
      "codemirror_mode": {
        "name": "ipython",
        "version": 3
      },
      "file_extension": ".py",
      "mimetype": "text/x-python",
      "name": "python",
      "nbconvert_exporter": "python",
      "pygments_lexer": "ipython3",
      "version": "3.8.10"
    }
  },
  "nbformat": 4,
  "nbformat_minor": 0
}