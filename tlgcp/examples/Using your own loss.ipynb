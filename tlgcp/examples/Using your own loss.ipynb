{
 "cells": [
  {
   "cell_type": "code",
   "execution_count": 1,
   "metadata": {},
   "outputs": [],
   "source": [
    "import numpy as np\n",
    "import tensorly as tl\n",
    "from tensorly.decomposition import non_negative_parafac_hals\n",
    "from tlgcp import generalized_parafac, stochastic_generalized_parafac\n",
    "import matplotlib.pyplot as plt\n",
    "from tensorly.metrics import RMSE\n",
    "from tlgcp.utils import loss_operator\n",
    "import time"
   ]
  },
  {
   "cell_type": "markdown",
   "metadata": {},
   "source": [
    "# How to use custom loss and gradient function\n",
    "# -------------------------------------------"
   ]
  },
  {
   "cell_type": "markdown",
   "metadata": {},
   "source": [
    "Tensorly-Gcp allows you to make use of your own loss within GCP. Under the hood, GCP relies on `scipy.minimize.lbfgs` which requires a vector (1D) input. Therefore your custom loss and gradient functions must take a vector input. To write the loss at the tensor level more easily, we provide some reshaping functions."
   ]
  },
  {
   "cell_type": "code",
   "execution_count": 2,
   "metadata": {},
   "outputs": [],
   "source": [
    "from tlgcp.generalized_parafac._generalized_parafac import vectorized_factors_to_tensor, vectorized_mttkrp"
   ]
  },
  {
   "cell_type": "markdown",
   "metadata": {},
   "source": [
    "In GCP, we vectorize all the factors, however estimated tensor should be reconstructed inside the loss and gradient. Therefore, you should use `vectorized_factors_to_tensor(x, shape, rank)` to define estimated tensor in your function. Also, `vectorized_mttkrp(gradient, x , rank)` is necessary in your gradient function to follow GCP formulization, it simply computes and unfolds the MTTKRP. \n",
    "Knowing this, you can define your callable function, here e.g. as `fun_loss` and `fun_gradient`."
   ]
  },
  {
   "cell_type": "code",
   "execution_count": 3,
   "metadata": {},
   "outputs": [],
   "source": [
    "# note: size used before it is defined ??\n",
    "fun_loss = lambda x: tl.sum((tensor - vectorized_factors_to_tensor(x, shape, rank)) ** 2) / size\n",
    "fun_gradient = lambda x: vectorized_mttkrp(2 * (vectorized_factors_to_tensor(x, shape, rank) - tensor), x, rank) / size"
   ]
  },
  {
   "cell_type": "markdown",
   "metadata": {},
   "source": [
    "In these functions, `x` represents vectorized factors. In our loss functions,  we use the size (total number of entries) of the tensor for normalization as it is suggested in Hong, Kolda and Duersch's paper, but it is not mandatory."
   ]
  },
  {
   "cell_type": "code",
   "execution_count": 4,
   "metadata": {},
   "outputs": [],
   "source": [
    "rank = 5\n",
    "shape = [60, 80, 50]\n",
    "cp_tensor = tl.cp_to_tensor(tl.random.random_cp(shape, rank))\n",
    "array = np.random.binomial(1, cp_tensor / (cp_tensor + 1), size=shape)\n",
    "tensor = tl.tensor(array, dtype='float')\n",
    "size = tl.prod(tl.shape(tensor))"
   ]
  },
  {
   "cell_type": "markdown",
   "metadata": {},
   "source": [
    "After we create a tensor and define necessary variables, we can apply GCP with our defined loss and gradient functions. It should be noted that, `loss` should be `None` to be able to use your functions. "
   ]
  },
  {
   "cell_type": "code",
   "execution_count": 5,
   "metadata": {},
   "outputs": [],
   "source": [
    "tic = time.time()\n",
    "tensor_gcp, errors_gcp = generalized_parafac(tensor, rank=rank, return_errors=True, \n",
    "                                             loss=None, fun_loss=fun_loss, fun_gradient=fun_gradient)\n",
    "cp_reconstruction_gcp = tl.cp_to_tensor((tensor_gcp))\n",
    "time_gcp = time.time() - tic"
   ]
  },
  {
   "cell_type": "markdown",
   "metadata": {},
   "source": [
    "As you may have noticed, the custom loss we used here is the Gaussian loss and its associated gradient. We can compare the results with the built-in Gaussian loss inside Tensorly-gcp."
   ]
  },
  {
   "cell_type": "code",
   "execution_count": 6,
   "metadata": {},
   "outputs": [],
   "source": [
    "loss=\"gaussian\"\n",
    "tic = time.time()\n",
    "tensor_gcp_gaussian, errors_gcp_gaussian = generalized_parafac(tensor, rank=rank,return_errors=True, \n",
    "                                                               loss=loss)\n",
    "cp_reconstruction_gcp_gaussian = tl.cp_to_tensor((tensor_gcp))\n",
    "time_gcp_gaussian = time.time() - tic"
   ]
  },
  {
   "cell_type": "code",
   "execution_count": 7,
   "metadata": {},
   "outputs": [
    {
     "name": "stdout",
     "output_type": "stream",
     "text": [
      "RMSE for GCP: 0.32660574169116274\n",
      "RMSE for GCP: 0.32660574169116274\n",
      "Loss for GCP: 0.10667131050563454\n",
      "Loss for GCP: 0.10667131050563454\n",
      "GCP time: 0.6412014961242676\n",
      "GCP time: 0.791168212890625\n"
     ]
    }
   ],
   "source": [
    "print(\"RMSE for GCP:\", RMSE(cp_tensor, cp_reconstruction_gcp))\n",
    "print(\"RMSE for GCP:\", RMSE(cp_tensor, cp_reconstruction_gcp_gaussian))\n",
    "\n",
    "print(\"Loss for GCP:\", tl.sum(loss_operator(cp_tensor, cp_reconstruction_gcp, loss)))\n",
    "print(\"Loss for GCP:\", tl.sum(loss_operator(cp_tensor, cp_reconstruction_gcp_gaussian, loss)))\n",
    ", loss)))\n",
    "\n",
    "print(\"GCP time:\", time_gcp)\n",
    "print(\"GCP time:\", time_gcp_gaussian)"
   ]
  },
  {
   "cell_type": "markdown",
   "metadata": {},
   "source": [
    "As expected, results are very similar except processing time, the variation being due to random initialization. We can also observe this behaviour by plotting error per iteration for each method."
   ]
  },
  {
   "cell_type": "code",
   "execution_count": 8,
   "metadata": {},
   "outputs": [],
   "source": [
    "def each_iteration(a, b):\n",
    "    fig=plt.figure()\n",
    "    fig.set_size_inches(10, fig.get_figheight(), forward=True)\n",
    "    plt.plot(a)\n",
    "    plt.plot(b)\n",
    "    plt.yscale('log')\n",
    "    plt.legend(['GCP-defined','GCP-gaussian'], loc='upper right') "
   ]
  },
  {
   "cell_type": "code",
   "execution_count": 9,
   "metadata": {},
   "outputs": [
    {
     "data": {
      "image/png": "[encoded data removed]",
      "text/plain": [
       "<Figure size 720x288 with 1 Axes>"
      ]
     },
     "metadata": {
      "needs_background": "light"
     },
     "output_type": "display_data"
    }
   ],
   "source": [
    "each_iteration(errors_gcp, errors_gcp_gaussian)"
   ]
  }
 ],
 "metadata": {
  "kernelspec": {
   "display_name": "Python 3",
   "language": "python",
   "name": "python3"
  },
  "language_info": {
   "codemirror_mode": {
    "name": "ipython",
    "version": 3
   },
   "file_extension": ".py",
   "mimetype": "text/x-python",
   "name": "python",
   "nbconvert_exporter": "python",
   "pygments_lexer": "ipython3",
   "version": "3.8.10"
  }
 },
 "nbformat": 4,
 "nbformat_minor": 4
}
